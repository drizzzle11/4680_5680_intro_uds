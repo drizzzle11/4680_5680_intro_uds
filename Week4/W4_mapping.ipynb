{
 "cells": [
  {
   "cell_type": "markdown",
   "id": "foster-heart",
   "metadata": {},
   "source": [
    "Before we get started: \n",
    "1) install these jupyter lab extentions"
   ]
  },
  {
   "cell_type": "code",
   "execution_count": null,
   "id": "taken-valley",
   "metadata": {},
   "outputs": [],
   "source": [
    "!jupyter labextension install @jupyter-widgets/jupyterlab-manager keplergl-jupyter\n",
    "!jupyter nbextension install --py --sys-prefix keplergl\n",
    "!jupyter nbextension enable keplergl --py --sys-prefix"
   ]
  },
  {
   "cell_type": "code",
   "execution_count": null,
   "id": "early-james",
   "metadata": {},
   "outputs": [],
   "source": [
    "!pip install keplergl"
   ]
  },
  {
   "cell_type": "markdown",
   "id": "personal-metropolitan",
   "metadata": {},
   "source": [
    "2. Now close out of your browser and restart Anaconda / deactivate your environment\n",
    "3. Restart your environment"
   ]
  },
  {
   "cell_type": "markdown",
   "id": "superior-magazine",
   "metadata": {},
   "source": [
    "# Learning goals\n",
    "After this week's lesson you should be able to:\n",
    "- Style a map in geopandas\n",
    "- Add multiple layers onto a map\n",
    "- Create a map with a basemap using contextily\n",
    "- Create an interactive map using geopandas and kepler\n",
    "- Perform a spatial join (Refresher)\n",
    "\n",
    "This week's lessons are adapted from:\n",
    "- [The Geopandas user guide](https://geopandas.org/en/stable/docs/user_guide.html)\n",
    "- [The contextily user guide](https://contextily.readthedocs.io/en/latest/index.html)\n",
    "- [kepler.gl for Jupyter User Guide](https://docs.kepler.gl/docs/keplergl-jupyter)"
   ]
  },
  {
   "cell_type": "code",
   "execution_count": null,
   "id": "broke-darkness",
   "metadata": {},
   "outputs": [],
   "source": [
    "# We are going to start importing the libraries we need\n",
    "# all in one cell. \n",
    "# It is a good practice to keep all the imports in one cell so that\n",
    "# we can easily see what libraries we are using in the notebook.\n",
    "import pandas as pd\n",
    "import numpy as np\n",
    "import geopandas as gpd\n",
    "import os\n",
    "import matplotlib.pyplot as plt\n",
    "\n",
    "%matplotlib inline\n",
    "# we use the inline backend to generate the plots within the browser\n",
    "\n",
    "os.getcwd()"
   ]
  },
  {
   "cell_type": "markdown",
   "id": "hybrid-secretariat",
   "metadata": {},
   "source": [
    "## 0. Read in the data\n",
    "We are going to map the 2020 population density in NYC at the block group level. I've created a `GeoJSON` called `blkgrp_acs.geojson` from the [NHGIS](data2.nhgis.org) data portal. You can also download it [here](https://www.dropbox.com/s/p6vtkmvjzfrt66p/blkgrp_acs.geojson?dl=0)."
   ]
  },
  {
   "cell_type": "code",
   "execution_count": null,
   "id": "sustainable-arcade",
   "metadata": {},
   "outputs": [],
   "source": [
    "blkgrp_acs = gpd.read_file('blkgrp_acs.geojson')"
   ]
  },
  {
   "cell_type": "markdown",
   "id": "fewer-blame",
   "metadata": {},
   "source": [
    "Note here that we have a column named `pop_density`. We'll just be using this in this example."
   ]
  },
  {
   "cell_type": "code",
   "execution_count": null,
   "id": "international-ladder",
   "metadata": {},
   "outputs": [],
   "source": [
    "blkgrp_acs.head()"
   ]
  },
  {
   "cell_type": "markdown",
   "id": "excessive-boxing",
   "metadata": {},
   "source": [
    "# 1. Static Maps in Geopandas \n",
    "This should mostly feel like a refresher as we've indirectly covered some of these tools. I will present it more systematically today. "
   ]
  },
  {
   "cell_type": "markdown",
   "id": "animated-classification",
   "metadata": {},
   "source": [
    "## 1.1 Plotting\n",
    "When working with a geodataframe in geopandas, we have a function called `.plot()` that is using a library called `matplotlib` under the hood. "
   ]
  },
  {
   "cell_type": "code",
   "execution_count": null,
   "id": "revised-vessel",
   "metadata": {},
   "outputs": [],
   "source": [
    "blkgrp_acs.plot()"
   ]
  },
  {
   "cell_type": "markdown",
   "id": "single-hamilton",
   "metadata": {},
   "source": [
    "#### Small Detour: Reading Documentation\n",
    "Here are all the possible parameters that we can include in the `.plot()` function. The following cell is a snapshot from the [geopandas documentation](https://geopandas.org/en/stable/docs/reference/api/geopandas.GeoDataFrame.plot.html) that tell us a bit more about what the function does. \n",
    "\n",
    "Let's take a look at the first one: \n",
    "- This tells us that we can specify a parameter called `column`, that takes as input a `str` type. \n",
    "- What does this mean? This means that if we expand our code to be something like `gdf.plot(column='my_col_name')`, the values from the `my_col_name` column in my geodataframe will be used to color the plot. \n",
    "- In our example, since we are interested in `pop_density`, we might want to plot this, like so: \n",
    "    - `blkgrp_acs.plot(column='pop_density')`\n",
    "- You may also have seen this version: `blkgrp_acs.plot('pop_density')`\n",
    "    - This is a shorthand way to write `blkgrp_acs.plot(column='pop_density')`. Python knows that, when we don't specify the parameter, the first input in a function corresponds to the first parameter, the second input to the second paramter, and so on.\n",
    "- We can also see that, by default, this input is `None`, meaning there is no value in `column` by default."
   ]
  },
  {
   "cell_type": "markdown",
   "id": "american-torture",
   "metadata": {},
   "source": [
    "</figure>\n",
    "<img src=\"https://www.dropbox.com/s/z6nezt2u3payzmj/Screen%20Shot%202023-02-11%20at%201.14.07%20PM.png?dl=1\" alt=\"drawing\" width=\"1000\" style=\"display: block; margin: 0 auto\"/>\n",
    "</figure>\n"
   ]
  },
  {
   "cell_type": "markdown",
   "id": "residential-coast",
   "metadata": {},
   "source": [
    "Let's move on to the fourth input - **color**. The documentation stays that this takes a `str` as an input and \n",
    ">\"If specified, all objects will be colored uniformly.\""
   ]
  },
  {
   "cell_type": "code",
   "execution_count": null,
   "id": "composite-coordinate",
   "metadata": {},
   "outputs": [],
   "source": [
    "blkgrp_acs.plot(color='red')"
   ]
  },
  {
   "cell_type": "markdown",
   "id": "differential-conditioning",
   "metadata": {},
   "source": [
    "Since we know we want to look at the column `pop_density` let's go ahead and set our `column` input to be `pop_density`."
   ]
  },
  {
   "cell_type": "code",
   "execution_count": null,
   "id": "identified-apache",
   "metadata": {},
   "outputs": [],
   "source": [
    "blkgrp_acs.plot(column='pop_density')\n",
    "# This is not very informative because the default color scheme give us no idea of the range of values."
   ]
  },
  {
   "cell_type": "markdown",
   "id": "spiritual-vaccine",
   "metadata": {},
   "source": [
    "## 1.2 Changing the figure size of a plot\n",
    "We can also see that there is an input called **figsize**. The documentation says: \n",
    "- This takes as an input a \"tuple of integers\", which is  `(number1,number2)`. Remember that a tuple is anything separated by parentheses, typically only with two elements (hence the word). \n",
    "- What this controls is \"Size of the resulting matplotlib.figure.Figure. If the argument axes is given explicitly, figsize is ignored.\".\n"
   ]
  },
  {
   "cell_type": "code",
   "execution_count": null,
   "id": "advised-principal",
   "metadata": {},
   "outputs": [],
   "source": [
    "# At least now we can see those tiny block groups a little better.. \n",
    "# There is some variation in the population density, but it is still hard to tell what the range is.\n",
    "blkgrp_acs.plot(column='pop_density',\n",
    "                figsize=(12,12))"
   ]
  },
  {
   "cell_type": "markdown",
   "id": "separate-china",
   "metadata": {},
   "source": [
    "## 1.3 Adding a legend\n",
    "To help us understand what values these colors are mapping to, let's introduce a legend. "
   ]
  },
  {
   "cell_type": "code",
   "execution_count": null,
   "id": "revolutionary-girlfriend",
   "metadata": {},
   "outputs": [],
   "source": [
    "## The legend automatically shows the range of values in the data.\n",
    "blkgrp_acs.plot(column='pop_density',\n",
    "                figsize=(12,12),\n",
    "                legend=True)"
   ]
  },
  {
   "cell_type": "markdown",
   "id": "professional-timer",
   "metadata": {},
   "source": [
    "## 1.4 Schemes \n",
    "By default geopandas uses an equal interval classification scheme. This means that the range of values (where range is the max_val - min_val) is divided equally. The scheme above has the colors continuous along this interval. (Typically, we use a classification scheme based on **k** distinct categories.)\n",
    "\n",
    "Notice that we have the input option **scheme**. The documentation says that this takes a `str` input type, which is\n",
    ">\"Name of a choropleth classification scheme (requires mapclassify). A mapclassify.MapClassifier object will be used under the hood. Supported are all schemes provided by mapclassify (e.g. ‘BoxPlot’, ‘EqualInterval’, ‘FisherJenks’, ‘FisherJenksSampled’, ‘HeadTailBreaks’, ‘JenksCaspall’, ‘JenksCaspallForced’, ‘JenksCaspallSampled’, ‘MaxP’, ‘MaximumBreaks’, ‘NaturalBreaks’, ‘Quantiles’, ‘Percentiles’, ‘StdMean’, ‘UserDefined’). Arguments can be passed in classification_kwds.\"\n",
    "\n",
    "### 1.4.1 Quantiles\n",
    "Instead of the default equal interval scheme, let's try a quantiles scheme `Quantiles`. This will separate my data into 5 parts with the same number of values so that 20% of the data is below the first quantile, 20% is between the first and second quantile, and so on."
   ]
  },
  {
   "cell_type": "markdown",
   "id": "numeric-inspector",
   "metadata": {},
   "source": [
    "Now we have more variation in the colors. "
   ]
  },
  {
   "cell_type": "code",
   "execution_count": null,
   "id": "surface-declaration",
   "metadata": {},
   "outputs": [],
   "source": [
    "## Notice that the legend now gives us a range of values for each color.\n",
    "## The values have been rounded to the nearest two significant digits.\n",
    "## That is why some of the ranges are the same.\n",
    "blkgrp_acs.plot(column='pop_density',\n",
    "                figsize=(12,12),\n",
    "                legend=True,\n",
    "                scheme= 'Quantiles')"
   ]
  },
  {
   "cell_type": "markdown",
   "id": "sharp-sitting",
   "metadata": {},
   "source": [
    "### 1.4.2 Natural breaks\n",
    "Another common classification scheme is **natural breaks**, which is (from the [ESRI GIS dictionary](https://support.esri.com/en-us/gis-dictionary/natural-breaks-classification#:~:text=%5Bcartography%5D%20A%20method%20of%20manual,the%20low%20points%20of%20valleys.)): \n",
    ">A method of manual data classification that seeks to partition data into classes based on natural groups in the data distribution. Natural breaks occur in the histogram at the low points of valleys. Breaks are assigned in the order of the size of the valleys, with the largest valley being assigned the first natural break."
   ]
  },
  {
   "cell_type": "code",
   "execution_count": null,
   "id": "premier-crazy",
   "metadata": {},
   "outputs": [],
   "source": [
    "blkgrp_acs.plot(column='pop_density',\n",
    "                figsize=(12,12),\n",
    "                legend=True,\n",
    "                scheme= 'NaturalBreaks')"
   ]
  },
  {
   "cell_type": "markdown",
   "id": "personal-oriental",
   "metadata": {},
   "source": [
    "### 1.4.3 Boxplot\n"
   ]
  },
  {
   "cell_type": "code",
   "execution_count": null,
   "id": "brief-style",
   "metadata": {},
   "outputs": [],
   "source": [
    "blkgrp_acs.plot(column='pop_density',\n",
    "                figsize=(12,12),\n",
    "                legend=True,\n",
    "                scheme= 'BoxPlot')"
   ]
  },
  {
   "cell_type": "markdown",
   "id": "referenced-heath",
   "metadata": {},
   "source": [
    "## 1.5 Legend `legend_kws` \n",
    "\n",
    "Notice that we have two types of legends: \n",
    "- **Binned**\n",
    "- **Continuous**\n",
    "\n",
    "The following are some legend tools but some only apply to either binned or continuous legends. \n",
    "\n",
    "Because geopandas is using matplotlib under the hood, but does not expose all the optionalities of matplotlib, you will often see optional inputs like `something_kws` (kws = keywords) that allow us to access those features with this. \n",
    "\n",
    "Here, let's try using `legend_kws`, which takes in a `dict` input format with \n",
    ">Keyword arguments to pass to matplotlib.pyplot.legend() or matplotlib.pyplot.colorbar(). \n",
    "\n",
    "Notice here that `legend_kws`. You can read the `matplotlib.pyplot.legend()` [documentation](https://matplotlib.org/stable/api/_as_gen/matplotlib.pyplot.legend.html#matplotlib.pyplot.legend) to get a better sense of all the possible ways to format the legend, but let's go over a few keys ones: "
   ]
  },
  {
   "cell_type": "markdown",
   "id": "cutting-embassy",
   "metadata": {},
   "source": [
    "### 1.5.1 Location of Legend (binned): \n"
   ]
  },
  {
   "cell_type": "code",
   "execution_count": null,
   "id": "adaptive-houston",
   "metadata": {},
   "outputs": [],
   "source": [
    "blkgrp_acs.plot(column='pop_density',\n",
    "                figsize=(12,12),\n",
    "                legend=True,\n",
    "                scheme= 'BoxPlot',\n",
    "                legend_kwds={'loc': 'lower left'})"
   ]
  },
  {
   "cell_type": "code",
   "execution_count": null,
   "id": "noble-feelings",
   "metadata": {},
   "outputs": [],
   "source": [
    "blkgrp_acs.plot(column='pop_density',\n",
    "                figsize=(12,12),\n",
    "                legend=True,\n",
    "                scheme= 'BoxPlot',\n",
    "                legend_kwds={'loc': 'upper left'})"
   ]
  },
  {
   "cell_type": "markdown",
   "id": "pressed-rotation",
   "metadata": {},
   "source": [
    "### 1.5.2 Orientation (continuous)\n",
    "For continuous legends, we can't change the location of the legend, but we can use the key, `orientation`. "
   ]
  },
  {
   "cell_type": "code",
   "execution_count": null,
   "id": "absent-pennsylvania",
   "metadata": {},
   "outputs": [],
   "source": [
    "blkgrp_acs.plot(column='pop_density',\n",
    "                figsize=(12,12),\n",
    "                legend=True,\n",
    "                legend_kwds={'orientation':'horizontal'})"
   ]
  },
  {
   "cell_type": "markdown",
   "id": "convenient-capital",
   "metadata": {},
   "source": [
    "### 1.5.3 Sizing a legend (continuous)\n",
    "If you are as bothered by the size the continuous legend as I am, here are to code snippets for fixing that. (I'm not going to explain what they're doing here. )"
   ]
  },
  {
   "cell_type": "markdown",
   "id": "exotic-bumper",
   "metadata": {},
   "source": [
    "Vertical legend"
   ]
  },
  {
   "cell_type": "code",
   "execution_count": null,
   "id": "optical-cradle",
   "metadata": {},
   "outputs": [],
   "source": [
    "from mpl_toolkits.axes_grid1 import make_axes_locatable\n",
    "\n",
    "fig, ax = plt.subplots(1, 1,figsize=(12,12))\n",
    "divider = make_axes_locatable(ax)\n",
    "cax = divider.append_axes(\"right\", size=\"5%\", pad=0.1)\n",
    "\n",
    "blkgrp_acs.plot(column='pop_density',\n",
    "                ax=ax,\n",
    "                cax=cax,\n",
    "                legend=True,\n",
    "                )"
   ]
  },
  {
   "cell_type": "markdown",
   "id": "flush-rebound",
   "metadata": {},
   "source": [
    "## 1.6 Colors\n",
    "\n",
    "From the [matplotlib documentation](https://matplotlib.org/stable/gallery/color/colormap_reference.html), here is are some of the named color schemes: \n"
   ]
  },
  {
   "cell_type": "code",
   "execution_count": null,
   "id": "brief-bulgaria",
   "metadata": {},
   "outputs": [],
   "source": [
    "import numpy as np\n",
    "import matplotlib.pyplot as plt\n",
    "\n",
    "cmaps = [('Perceptually Uniform Sequential', [\n",
    "            'viridis', 'plasma', 'inferno', 'magma', 'cividis']),\n",
    "         ('Sequential', [\n",
    "            'Greys', 'Purples', 'Blues', 'Greens', 'Oranges', 'Reds',\n",
    "            'YlOrBr', 'YlOrRd', 'OrRd', 'PuRd', 'RdPu', 'BuPu',\n",
    "            'GnBu', 'PuBu', 'YlGnBu', 'PuBuGn', 'BuGn', 'YlGn']),\n",
    "         ('Sequential (2)', [\n",
    "            'binary', 'gist_yarg', 'gist_gray', 'gray', 'bone', 'pink',\n",
    "            'spring', 'summer', 'autumn', 'winter', 'cool', 'Wistia',\n",
    "            'hot', 'afmhot', 'gist_heat', 'copper']),\n",
    "         ('Diverging', [\n",
    "            'PiYG', 'PRGn', 'BrBG', 'PuOr', 'RdGy', 'RdBu',\n",
    "            'RdYlBu', 'RdYlGn', 'Spectral', 'coolwarm', 'bwr', 'seismic']),\n",
    "         ('Cyclic', ['twilight', 'twilight_shifted', 'hsv']),\n",
    "         ('Qualitative', [\n",
    "            'Pastel1', 'Pastel2', 'Paired', 'Accent',\n",
    "            'Dark2', 'Set1', 'Set2', 'Set3',\n",
    "            'tab10', 'tab20', 'tab20b', 'tab20c']),\n",
    "         ('Miscellaneous', [\n",
    "            'flag', 'prism', 'ocean', 'gist_earth', 'terrain', 'gist_stern',\n",
    "            'gnuplot', 'gnuplot2', 'CMRmap', 'cubehelix', 'brg',\n",
    "            'gist_rainbow', 'rainbow', 'jet', 'turbo', 'nipy_spectral',\n",
    "            'gist_ncar'])]\n",
    "\n",
    "gradient = np.linspace(0, 1, 256)\n",
    "gradient = np.vstack((gradient, gradient))\n",
    "\n",
    "\n",
    "def plot_color_gradients(cmap_category, cmap_list):\n",
    "    # Create figure and adjust figure height to number of colormaps\n",
    "    nrows = len(cmap_list)\n",
    "    figh = 0.35 + 0.15 + (nrows + (nrows-1)*0.1)*0.22\n",
    "    fig, axs = plt.subplots(nrows=nrows, figsize=(6.4, figh))\n",
    "    fig.subplots_adjust(top=1-.35/figh, bottom=.15/figh, left=0.2, right=0.99)\n",
    "\n",
    "    axs[0].set_title(f\"{cmap_category} colormaps\", fontsize=14)\n",
    "\n",
    "    for ax, cmap_name in zip(axs, cmap_list):\n",
    "        ax.imshow(gradient, aspect='auto', cmap=cmap_name)\n",
    "        ax.text(-.01, .5, cmap_name, va='center', ha='right', fontsize=10,\n",
    "                transform=ax.transAxes)\n",
    "\n",
    "    # Turn off *all* ticks & spines, not just the ones with colormaps.\n",
    "    for ax in axs:\n",
    "        ax.set_axis_off()\n",
    "\n",
    "\n",
    "for cmap_category, cmap_list in cmaps:\n",
    "    plot_color_gradients(cmap_category, cmap_list)"
   ]
  },
  {
   "cell_type": "code",
   "execution_count": null,
   "id": "running-number",
   "metadata": {},
   "outputs": [],
   "source": [
    "blkgrp_acs.plot(column='pop_density',\n",
    "                figsize=(12,12),\n",
    "                legend=True,\n",
    "                scheme= 'Quantiles',\n",
    "                cmap='hsv')"
   ]
  },
  {
   "cell_type": "markdown",
   "id": "victorian-spider",
   "metadata": {},
   "source": [
    "## Q.1 (2pts)\n",
    "Would you use a diverging colormap to make a choropleth for population density? Why or why not? Please answer in markdown text in the new cell below this one. "
   ]
  },
  {
   "cell_type": "markdown",
   "id": "phantom-signature",
   "metadata": {},
   "source": []
  },
  {
   "cell_type": "markdown",
   "id": "welsh-count",
   "metadata": {},
   "source": [
    "# 2. Maps with multiple layers"
   ]
  },
  {
   "cell_type": "markdown",
   "id": "fleet-transcription",
   "metadata": {},
   "source": [
    "## 2.1 Download Open Space data\n",
    "\n",
    "Download the [2014 Planimetric Survey - Open Space](https://data.cityofnewyork.us/Recreation/2014-Planimetric-Survey-Open-Space-Parks-/g84h-jbjm) datsaset. Either Shapefile or GeoJSON are fine. "
   ]
  },
  {
   "cell_type": "markdown",
   "id": "outstanding-guyana",
   "metadata": {},
   "source": [
    "## Q.2 Change projections (2pts)\n",
    "Check the CRS of the Open Space data and, if it's not the same as `blkgrp_acs`, change it match `blkgrp_acs`. "
   ]
  },
  {
   "cell_type": "code",
   "execution_count": null,
   "id": "primary-fields",
   "metadata": {},
   "outputs": [],
   "source": [
    "## insert your code here. "
   ]
  },
  {
   "cell_type": "code",
   "execution_count": null,
   "id": "improved-blank",
   "metadata": {},
   "outputs": [],
   "source": [
    "openspace = gpd.read_file('2014 Planimetric Survey - Open Space (Parks).geojson')"
   ]
  },
  {
   "cell_type": "code",
   "execution_count": null,
   "id": "metallic-sellers",
   "metadata": {},
   "outputs": [],
   "source": [
    "openspace.head()"
   ]
  },
  {
   "cell_type": "markdown",
   "id": "southwest-humor",
   "metadata": {},
   "source": [
    "## 2.2 Method 1\n",
    "The first method to map multiple layers is to assign your plot to a variable, and then then assign the subsequent layer axes object to this. "
   ]
  },
  {
   "cell_type": "code",
   "execution_count": null,
   "id": "exempt-effectiveness",
   "metadata": {},
   "outputs": [],
   "source": [
    "## Step 1\n",
    "base = blkgrp_acs.plot(column='pop_density',\n",
    "                figsize=(12,12),\n",
    "                legend=True,\n",
    "                scheme= 'Quantiles',\n",
    "                cmap='Blues')\n",
    "\n",
    "\n",
    "openspace.plot(ax = base,color='green')"
   ]
  },
  {
   "cell_type": "markdown",
   "id": "round-swimming",
   "metadata": {},
   "source": [
    "Note: If you try to plot multiple legends, without more complex manipulations, the plot will only show the legend from the last layer to be plotted. "
   ]
  },
  {
   "cell_type": "code",
   "execution_count": null,
   "id": "faced-factor",
   "metadata": {},
   "outputs": [],
   "source": [
    "base = blkgrp_acs.plot(column='pop_density',\n",
    "                figsize=(12,12),\n",
    "                legend=True,\n",
    "                scheme= 'Quantiles',\n",
    "                cmap='Blues')\n",
    "openspace.plot(ax = base,column='landuse',legend=True)"
   ]
  },
  {
   "cell_type": "markdown",
   "id": "sophisticated-gender",
   "metadata": {},
   "source": [
    "## 2.3 Method 2\n",
    "The second, and generally more preferred, method is to use the \n",
    "`fig,ax = plt.subplots()` construction you've seen before. \n"
   ]
  },
  {
   "cell_type": "code",
   "execution_count": null,
   "id": "saving-resort",
   "metadata": {},
   "outputs": [],
   "source": [
    "## The values in subplots are (numer of rows, numer of columns,figsize)\n",
    "fig1,ax1 = plt.subplots(1,1,figsize=(12,12))\n",
    "\n",
    "blkgrp_acs.plot(column='pop_density',\n",
    "                ax=ax1,\n",
    "                legend=True,\n",
    "                scheme= 'Quantiles',\n",
    "                cmap='Blues')\n",
    "\n",
    "openspace.plot(ax = ax1,column='landuse',legend=True)"
   ]
  },
  {
   "cell_type": "markdown",
   "id": "identified-course",
   "metadata": {},
   "source": [
    "## 2.4 Plotting in a grid\n",
    "The values in subplots are (number of rows, number of columns,figsize). So `plt.subplots(x,y)` will create a figure of x number of rows and y number of columns. \n",
    "\n",
    "As an example, here I've made a figure (`fig`) with 4 rows and 5 columns of empty axes (`ax`)"
   ]
  },
  {
   "cell_type": "code",
   "execution_count": null,
   "id": "august-monthly",
   "metadata": {},
   "outputs": [],
   "source": [
    "fig,ax = plt.subplots(4,5,figsize = (12,12))"
   ]
  },
  {
   "cell_type": "markdown",
   "id": "hourly-experience",
   "metadata": {},
   "source": [
    "Notice that `ax` is an array of subplots.. "
   ]
  },
  {
   "cell_type": "code",
   "execution_count": null,
   "id": "amazing-electronics",
   "metadata": {},
   "outputs": [],
   "source": [
    "ax"
   ]
  },
  {
   "cell_type": "code",
   "execution_count": null,
   "id": "preliminary-hunter",
   "metadata": {},
   "outputs": [],
   "source": [
    "ax.shape"
   ]
  },
  {
   "cell_type": "code",
   "execution_count": null,
   "id": "bizarre-place",
   "metadata": {},
   "outputs": [],
   "source": [
    "## This allows me to access the second row and second column axes object. \n",
    "ax[1,1]"
   ]
  },
  {
   "cell_type": "markdown",
   "id": "chicken-miller",
   "metadata": {},
   "source": [
    "We can then assign a chart to each axes object"
   ]
  },
  {
   "cell_type": "code",
   "execution_count": null,
   "id": "gothic-rehabilitation",
   "metadata": {},
   "outputs": [],
   "source": [
    "## The values in subplots are (numer of rows, numer of columns,figsize)\n",
    "fig1,ax1 = plt.subplots(1,2,figsize=(10,5))"
   ]
  },
  {
   "cell_type": "code",
   "execution_count": null,
   "id": "agricultural-being",
   "metadata": {},
   "outputs": [],
   "source": [
    "ax1"
   ]
  },
  {
   "cell_type": "code",
   "execution_count": null,
   "id": "introductory-hindu",
   "metadata": {},
   "outputs": [],
   "source": [
    "## The values in subplots are (numer of rows, numer of columns,figsize)\n",
    "fig1,ax1 = plt.subplots(1,2,figsize=(10,5))\n",
    "\n",
    "blkgrp_acs.plot(column='pop_density',\n",
    "                ax=ax1[0],\n",
    "                scheme= 'Quantiles',\n",
    "                cmap='Blues')\n",
    "\n",
    "openspace.plot(ax = ax1[1],column='landuse')"
   ]
  },
  {
   "cell_type": "markdown",
   "id": "seventh-cooperative",
   "metadata": {},
   "source": [
    "# 3. Contextily \n",
    "`contextily` is library that allows us to grab basemap tiles from different map providers. "
   ]
  },
  {
   "cell_type": "code",
   "execution_count": null,
   "id": "sustainable-library",
   "metadata": {},
   "outputs": [],
   "source": [
    "import contextily as cx"
   ]
  },
  {
   "cell_type": "markdown",
   "id": "celtic-closing",
   "metadata": {},
   "source": [
    "## 3.1 A basic basemap\n",
    "`contextily` also uses the matplotlib axes method. \n",
    "\n",
    "We just have to assign our geopandas plot to a variable name. "
   ]
  },
  {
   "cell_type": "code",
   "execution_count": null,
   "id": "renewable-pickup",
   "metadata": {},
   "outputs": [],
   "source": [
    "data_ax = blkgrp_acs.plot(column='pop_density',\n",
    "                scheme= 'Quantiles',\n",
    "                figsize=(20, 20), \n",
    "                legend=True,\n",
    "                cmap='Blues')\n",
    "\n",
    "cx.add_basemap(ax = data_ax,\n",
    "               crs=blkgrp_acs.crs)"
   ]
  },
  {
   "cell_type": "markdown",
   "id": "amber-packet",
   "metadata": {},
   "source": [
    "#### Changing CRS\n",
    "I don't love how `EPSG:4326` looks so I will create a version of my datasets in `EPSG:3857`."
   ]
  },
  {
   "cell_type": "code",
   "execution_count": null,
   "id": "sharing-teacher",
   "metadata": {},
   "outputs": [],
   "source": [
    "blkgrp_acs_3857 = blkgrp_acs.to_crs(epsg=3857)"
   ]
  },
  {
   "cell_type": "code",
   "execution_count": null,
   "id": "dedicated-exhibit",
   "metadata": {},
   "outputs": [],
   "source": [
    "data_ax = blkgrp_acs_3857.plot(column='pop_density',\n",
    "                scheme= 'Quantiles',\n",
    "                figsize=(20, 20),          \n",
    "                cmap='Blues')\n",
    "cx.add_basemap(ax = data_ax,\n",
    "               crs=blkgrp_acs_3857.crs)\n"
   ]
  },
  {
   "cell_type": "markdown",
   "id": "visible-finder",
   "metadata": {},
   "source": [
    "## 3.2 Changing the basemap.\n",
    "There are a lot of different basemaps from different providers, which you can see [here](https://contextily.readthedocs.io/en/latest/intro_guide.html). \n",
    "\n",
    "Here are just a few that are "
   ]
  },
  {
   "cell_type": "code",
   "execution_count": null,
   "id": "residential-august",
   "metadata": {
    "tags": []
   },
   "outputs": [],
   "source": [
    "selection = ['OpenStreetMap.Mapnik',\n",
    "             'OpenTopoMap',\n",
    "             'Stamen.Toner',\n",
    "             'Stamen.TonerLite',\n",
    "             'Stamen.Terrain',\n",
    "             'Stamen.TerrainBackground',\n",
    "             'Stamen.Watercolor',\n",
    "             'NASAGIBS.ViirsEarthAtNight2012',\n",
    "             'CartoDB.Positron',\n",
    "             'CartoDB.Voyager',\n",
    "             'CartoDB.DarkMatter'\n",
    "            ]"
   ]
  },
  {
   "cell_type": "markdown",
   "id": "charged-sentence",
   "metadata": {},
   "source": [
    "In order to change the basemap, you add `source` to the `cx.add_basemap()` functoin. "
   ]
  },
  {
   "cell_type": "code",
   "execution_count": null,
   "id": "thrown-princeton",
   "metadata": {},
   "outputs": [],
   "source": [
    "data_ax = blkgrp_acs_3857.plot(column='pop_density',\n",
    "                               scheme= 'Quantiles',\n",
    "                               figsize=(20, 20),\n",
    "                               legend=True,\n",
    "                               cmap='Blues')\n",
    "cx.add_basemap(ax = data_ax,\n",
    "               crs=blkgrp_acs_3857.crs,\n",
    "               source = cx.providers.CartoDB.Positron\n",
    "              )\n"
   ]
  },
  {
   "cell_type": "markdown",
   "id": "peripheral-clinton",
   "metadata": {},
   "source": [
    "# 4. Kepler\n",
    "Kepler.gl is a powerful open-source geospatial analysis tool that allows you to visualize and explore large-scale geolocation data. In this tutorial, we'll go through the steps to create a map with Kepler.gl in a Jupyter Notebook environment.\n"
   ]
  },
  {
   "cell_type": "markdown",
   "id": "fatal-letters",
   "metadata": {},
   "source": [
    "## 4.1 Create a map object"
   ]
  },
  {
   "cell_type": "code",
   "execution_count": null,
   "id": "disturbed-essex",
   "metadata": {},
   "outputs": [],
   "source": [
    "## The code should work, but \n",
    "## I am getting an \"Error displaying widget: model not found\"\n",
    "from keplergl import KeplerGl\n",
    "map_1 = KeplerGl(height=400)\n",
    "map_1"
   ]
  },
  {
   "cell_type": "markdown",
   "id": "favorite-marking",
   "metadata": {},
   "source": [
    "You should get an interactive tool, without a basemap, like this: \n",
    "</figure>\n",
    "<img src=\"https://www.dropbox.com/s/xu1gcfvxqpblbbn/Screen%20Shot%202023-02-11%20at%206.37.08%20PM.png?dl=1\" alt=\"drawing\" width=\"1000\" style=\"display: block; margin: 0 auto\"/>\n",
    "</figure>\n"
   ]
  },
  {
   "cell_type": "code",
   "execution_count": null,
   "id": "impressed-climb",
   "metadata": {},
   "outputs": [],
   "source": [
    "map_1.save_to_html()"
   ]
  },
  {
   "cell_type": "markdown",
   "id": "particular-expense",
   "metadata": {},
   "source": [
    "This will create an empty web map in your directory called `keplergl_map.html`"
   ]
  },
  {
   "cell_type": "code",
   "execution_count": null,
   "id": "aquatic-cinema",
   "metadata": {},
   "outputs": [],
   "source": [
    "map_1.add_data(data=blkgrp_acs,\n",
    "               name=\"Census\")"
   ]
  },
  {
   "cell_type": "markdown",
   "id": "conditional-conservative",
   "metadata": {},
   "source": [
    "You should now see a copy of your ACS data up above: \n",
    "</figure>\n",
    "<img src=\"https://www.dropbox.com/s/34apb5gnko2y0sk/Screen%20Shot%202023-02-11%20at%207.36.56%20PM.png?dl=1\" alt=\"drawing\" width=\"1000\" style=\"display: block; margin: 0 auto\"/>\n",
    "</figure>\n",
    "\n",
    "\n",
    "- Click on the arrow button on the top left hand corner. \n",
    "- A tool bar should open that allows you to style the data \n",
    "- Explore styling the map. "
   ]
  },
  {
   "cell_type": "markdown",
   "id": "deadly-victorian",
   "metadata": {},
   "source": [
    "Now save your map tool"
   ]
  },
  {
   "cell_type": "code",
   "execution_count": null,
   "id": "boolean-bachelor",
   "metadata": {},
   "outputs": [],
   "source": [
    "map_1.save_to_html(file_name='acs_population_density.html')"
   ]
  },
  {
   "cell_type": "markdown",
   "id": "descending-tooth",
   "metadata": {},
   "source": [
    "You can open up this file as a `.html` page on your browser. I've saved down a copy in this repo so you can see what it looks like. \n",
    "\n",
    "We can also display it the jupyter notebook environment using an iFrame.\n"
   ]
  },
  {
   "cell_type": "code",
   "execution_count": null,
   "id": "dependent-reaction",
   "metadata": {},
   "outputs": [],
   "source": [
    "from IPython.display import IFrame\n",
    "IFrame('acs_population_density.html', width=1600, height=1200,)\n"
   ]
  },
  {
   "cell_type": "code",
   "execution_count": null,
   "id": "renewable-consensus",
   "metadata": {},
   "outputs": [],
   "source": []
  }
 ],
 "metadata": {
  "kernelspec": {
   "display_name": "Python 3",
   "language": "python",
   "name": "python3"
  },
  "language_info": {
   "codemirror_mode": {
    "name": "ipython",
    "version": 3
   },
   "file_extension": ".py",
   "mimetype": "text/x-python",
   "name": "python",
   "nbconvert_exporter": "python",
   "pygments_lexer": "ipython3",
   "version": "3.8.8"
  },
  "vscode": {
   "interpreter": {
    "hash": "cc571d7ca67236538d190807671ab3198970b7d67f23d825ad141ff90f68066a"
   }
  }
 },
 "nbformat": 4,
 "nbformat_minor": 5
}
